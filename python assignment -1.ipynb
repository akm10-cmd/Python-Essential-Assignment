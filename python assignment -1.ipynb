{
 "cells": [
  {
   "cell_type": "markdown",
   "metadata": {},
   "source": [
    "# 1. Different functions of the String in Python.\n",
    "    lower()\n",
    "    upper()\n",
    "    capitalize()\n",
    "    swapcase()\n",
    "    title()\n",
    "    len(str);\n",
    "    count(str, ..)\n",
    "    isupper()\n",
    "    islower()\n",
    "    split()\n",
    "    replace()"
   ]
  },
  {
   "cell_type": "code",
   "execution_count": 3,
   "metadata": {},
   "outputs": [
    {
     "name": "stdout",
     "output_type": "stream",
     "text": [
      "hello\n"
     ]
    }
   ],
   "source": [
    "str = \"HELLO\"\n",
    "print(str.lower())"
   ]
  },
  {
   "cell_type": "code",
   "execution_count": 4,
   "metadata": {},
   "outputs": [
    {
     "name": "stdout",
     "output_type": "stream",
     "text": [
      "HELLO\n"
     ]
    }
   ],
   "source": [
    "str = \"hello\"\n",
    "print(str.upper())"
   ]
  },
  {
   "cell_type": "code",
   "execution_count": 7,
   "metadata": {},
   "outputs": [
    {
     "name": "stdout",
     "output_type": "stream",
     "text": [
      "Aashish\n"
     ]
    }
   ],
   "source": [
    "str = \"AAsHisH\"\n",
    "print(str.capitalize())"
   ]
  },
  {
   "cell_type": "code",
   "execution_count": 12,
   "metadata": {},
   "outputs": [
    {
     "name": "stdout",
     "output_type": "stream",
     "text": [
      "I Love To Code In Python.\n"
     ]
    }
   ],
   "source": [
    "str = \"i love to code in python.\"\n",
    "print(str.title())"
   ]
  },
  {
   "cell_type": "code",
   "execution_count": 17,
   "metadata": {},
   "outputs": [
    {
     "name": "stdout",
     "output_type": "stream",
     "text": [
      "25\n",
      "4\n"
     ]
    }
   ],
   "source": [
    "str = \"i love to code in python.\"\n",
    "s = 'o'\n",
    "print(len(str)) #returns length of string\n",
    "print(str.count(s)) #count number of time substring comes in string."
   ]
  },
  {
   "cell_type": "code",
   "execution_count": 19,
   "metadata": {},
   "outputs": [
    {
     "name": "stdout",
     "output_type": "stream",
     "text": [
      "True\n",
      "False\n"
     ]
    }
   ],
   "source": [
    "str = \"hello\"\n",
    "print(str.islower())\n",
    "print(str.isupper())"
   ]
  },
  {
   "cell_type": "code",
   "execution_count": 20,
   "metadata": {},
   "outputs": [
    {
     "name": "stdout",
     "output_type": "stream",
     "text": [
      "['i', 'love', 'to', 'code', 'in', 'python.']\n"
     ]
    }
   ],
   "source": [
    "str = \"i love to code in python.\"\n",
    "print(str.split())"
   ]
  },
  {
   "cell_type": "code",
   "execution_count": 22,
   "metadata": {},
   "outputs": [
    {
     "name": "stdout",
     "output_type": "stream",
     "text": [
      "i love to code in C++.\n"
     ]
    }
   ],
   "source": [
    "str = \"i love to code in python.\"\n",
    "var = \"C++\"\n",
    "print(str.replace('python', var))"
   ]
  },
  {
   "cell_type": "markdown",
   "metadata": {},
   "source": [
    "# 2. Different functions of the List object in Python\n",
    "    sort()\n",
    "    type()\n",
    "    index()\n",
    "    append()\n",
    "    extend()\n",
    "    max()\n",
    "    min()\n",
    "    len()\n",
    "   "
   ]
  },
  {
   "cell_type": "code",
   "execution_count": 49,
   "metadata": {},
   "outputs": [
    {
     "name": "stdout",
     "output_type": "stream",
     "text": [
      "[30, 33, 40, 50, 50.98, 55.7, 70, 90, 99]\n",
      "<class 'type'>\n",
      "8\n",
      "5\n",
      "['mon', 'tues', 'wed', 'thur', 'fri', 'sat', 'Sunday']\n",
      "[30, 33, 40, 50, 50.98, 55.7, 70, 90, 99]\n",
      "[30, 33, 40, 50, 50.98, 55.7, 70, 90, 99, 80, 90, 91]\n",
      "max =  99\n",
      "min =  30\n",
      "length =  12\n"
     ]
    }
   ],
   "source": [
    "marks = [40, 30, 50, 90, 99, 33, 70, 50.98, 55.7]\n",
    "marks.sort()\n",
    "print(marks)\n",
    "\n",
    "print(type (list))\n",
    "\n",
    "print(marks.index(99))\n",
    "week = ['mon', 'tues', 'wed', 'thur', 'fri', 'sat']\n",
    "print(week.index('sat'))\n",
    "\n",
    "day = \"Sunday\"\n",
    "week.append(day)\n",
    "print(week)\n",
    "\n",
    "print(marks)\n",
    "marks.extend([80,90,91])\n",
    "print(marks)\n",
    "\n",
    "print(\"max = \",max(marks))\n",
    "print(\"min = \", min(marks))\n",
    "\n",
    "print(\"length = \", len(marks))\n"
   ]
  },
  {
   "cell_type": "markdown",
   "metadata": {},
   "source": [
    "# 3. Experiment with at least 5 default functions of Dictionary\n",
    "    clear()\n",
    "    copy()\n",
    "    get()\n",
    "    formkeys()\n",
    "    items()\n",
    "    keys()\n",
    "    pop()\n",
    "    popitem()\n",
    "    update()\n",
    "    values"
   ]
  },
  {
   "cell_type": "code",
   "execution_count": 74,
   "metadata": {},
   "outputs": [
    {
     "name": "stdout",
     "output_type": "stream",
     "text": [
      "dic=  {1: 'Aashish', 2: 'Ashish', 3: 'mandal', 4: 'patel', 'aashish': 'mandal', 'ashish': 'patel'}\n",
      "copy of dic =  {1: 'Aashish', 2: 'Ashish', 3: 'mandal', 4: 'patel', 'aashish': 'mandal', 'ashish': 'patel'}\n",
      "Aashish\n",
      "patel\n",
      "mandal\n",
      "{12: None, 45: None, 14: None, 76: None}\n",
      "{12: 1, 45: 1, 14: 1, 76: 1}\n",
      "{12: [10], 45: [10], 14: [10], 76: [10]}\n",
      "dic all iems =  dict_items([(1, 'Aashish'), (2, 'Ashish'), (3, 'mandal'), (4, 'patel'), ('aashish', 'mandal'), ('ashish', 'patel')])\n",
      "dic all keys =  dict_keys([1, 2, 3, 4, 'aashish', 'ashish'])\n",
      "dic =  None\n"
     ]
    }
   ],
   "source": [
    "dic = {1:\"Aashish\", 2:\"Ashish\", 3:\"mandal\", 4:\"patel\", 'aashish':\"mandal\", 'ashish':\"patel\"}\n",
    "print(\"dic= \",dic)\n",
    "\n",
    "\n",
    "copyOFdic= dic.copy()\n",
    "print(\"copy of dic = \",copyOFdic)\n",
    "\n",
    "\n",
    "print(dic.get(1))\n",
    "print(dic.get('ashish'))\n",
    "print(dic.get('aashish'))\n",
    "\n",
    "\n",
    "keys = {12,14 ,45,76}\n",
    "newDict = dict.fromkeys(keys)\n",
    "print(newDict)\n",
    "\n",
    "val =1\n",
    "newDict = dict.fromkeys(keys,val)\n",
    "print(newDict)\n",
    "\n",
    "val =[10]\n",
    "newDict = dict.fromkeys(keys,val)\n",
    "print(newDict)\n",
    "\n",
    "\n",
    "print(\"dic all iems = \",dic.items())\n",
    "\n",
    "\n",
    "print(\"dic all keys = \",dic.keys())\n",
    "\n",
    "\n",
    "print(\"dic = \",dic.clear())\n",
    "    "
   ]
  },
  {
   "cell_type": "code",
   "execution_count": null,
   "metadata": {},
   "outputs": [],
   "source": []
  }
 ],
 "metadata": {
  "kernelspec": {
   "display_name": "Python 3",
   "language": "python",
   "name": "python3"
  },
  "language_info": {
   "codemirror_mode": {
    "name": "ipython",
    "version": 3
   },
   "file_extension": ".py",
   "mimetype": "text/x-python",
   "name": "python",
   "nbconvert_exporter": "python",
   "pygments_lexer": "ipython3",
   "version": "3.8.3"
  }
 },
 "nbformat": 4,
 "nbformat_minor": 4
}
