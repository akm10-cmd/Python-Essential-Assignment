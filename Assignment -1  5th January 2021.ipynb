{
 "cells": [
  {
   "cell_type": "markdown",
   "metadata": {},
   "source": [
    "# Assignment 1 | 5th January 2021"
   ]
  },
  {
   "cell_type": "markdown",
   "metadata": {},
   "source": [
    "## Questions 1\n",
    "\n",
    "Find the value of the following questions, Where x=5\n",
    "\n",
    "(2x+5/x^2+5x+6) = 41.2\n",
    "\n",
    "(x^2+5*x+6/2*x+5) = 70\n",
    "\n",
    "(2x-3)(x-9) = -28"
   ]
  },
  {
   "cell_type": "markdown",
   "metadata": {},
   "source": [
    "# Questions 2\n",
    "Create a username and password login file using nested while loop"
   ]
  },
  {
   "cell_type": "code",
   "execution_count": 2,
   "metadata": {},
   "outputs": [
    {
     "name": "stdout",
     "output_type": "stream",
     "text": [
      "Enter correct userName and password for successfully Login.\n",
      "Enter userName: akm12345\n",
      "Enter Password: hello12345\n",
      "Login Successful.\n"
     ]
    }
   ],
   "source": [
    "u_name = 'akm12345'\n",
    "u_password = 'hello12345'\n",
    "x =True\n",
    "while x:\n",
    "    print(\"Enter correct userName and password for successfully Login.\")\n",
    "    username = input(\"Enter userName: \")\n",
    "    password = input(\"Enter Password: \")\n",
    "    while (username != u_name and password != u_password):\n",
    "        print(\"Wrong credentials!! Please enter correct credentials.\")\n",
    "        break\n",
    "    else:\n",
    "        print(\"Login Successful.\")\n",
    "        x=False"
   ]
  },
  {
   "cell_type": "code",
   "execution_count": null,
   "metadata": {},
   "outputs": [],
   "source": []
  }
 ],
 "metadata": {
  "kernelspec": {
   "display_name": "Python 3",
   "language": "python",
   "name": "python3"
  },
  "language_info": {
   "codemirror_mode": {
    "name": "ipython",
    "version": 3
   },
   "file_extension": ".py",
   "mimetype": "text/x-python",
   "name": "python",
   "nbconvert_exporter": "python",
   "pygments_lexer": "ipython3",
   "version": "3.8.3"
  }
 },
 "nbformat": 4,
 "nbformat_minor": 4
}
